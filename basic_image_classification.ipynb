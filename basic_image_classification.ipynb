{
 "cells": [
  {
   "cell_type": "code",
   "execution_count": 1,
   "metadata": {
    "ExecuteTime": {
     "end_time": "2019-01-31T10:14:59.369837Z",
     "start_time": "2019-01-31T10:14:59.095657Z"
    }
   },
   "outputs": [],
   "source": [
    "#import tensorflow, keras and numpy\n",
    "\n",
    "import tensorflow as tf\n",
    "from tensorflow import keras\n",
    "import numpy as np\n",
    "%matplotlib inline\n",
    "import matplotlib.pyplot as plt\n",
    "from matplotlib.image import imread\n",
    "from skimage.transform import resize\n",
    "import glob\n",
    "import pandas as pd\n",
    "from sklearn.model_selection import train_test_split"
   ]
  },
  {
   "cell_type": "markdown",
   "metadata": {},
   "source": [
    "## Creating the dataset"
   ]
  },
  {
   "cell_type": "markdown",
   "metadata": {},
   "source": [
    "### The first step is to create a list of all the image paths using the glob module."
   ]
  },
  {
   "cell_type": "code",
   "execution_count": 2,
   "metadata": {
    "ExecuteTime": {
     "end_time": "2019-01-31T10:07:52.204901Z",
     "start_time": "2019-01-31T10:07:51.883854Z"
    }
   },
   "outputs": [
    {
     "data": {
      "text/plain": [
       "['../../../keele_code/msc_project/Filestructure/Notebooks/imgs/lfw/German_Khan/German_Khan_0001.jpg']"
      ]
     },
     "execution_count": 2,
     "metadata": {},
     "output_type": "execute_result"
    }
   ],
   "source": [
    "paths_path = \"../../../keele_code/msc_project/Filestructure/Notebooks/imgs/lfw/*/*\"\n",
    "paths_list = glob.glob(paths_path)\n",
    "paths_list[:1]"
   ]
  },
  {
   "cell_type": "markdown",
   "metadata": {},
   "source": [
    "### We then create a list of labels with that paths_list"
   ]
  },
  {
   "cell_type": "code",
   "execution_count": 3,
   "metadata": {
    "ExecuteTime": {
     "end_time": "2019-01-31T10:07:52.237697Z",
     "start_time": "2019-01-31T10:07:52.209652Z"
    }
   },
   "outputs": [
    {
     "data": {
      "text/plain": [
       "['German Khan',\n",
       " 'Stefano Gabbana',\n",
       " 'Dragan Covic',\n",
       " 'Jeff Hornacek',\n",
       " 'Sureyya Ayhan']"
      ]
     },
     "execution_count": 3,
     "metadata": {},
     "output_type": "execute_result"
    }
   ],
   "source": [
    "#for MAC\n",
    "labels = [p.split(\"/\")[-1].split(\"00\")[0].replace(\"_\", \" \").rstrip() for p in paths_list]\n",
    "labels[:5]"
   ]
  },
  {
   "cell_type": "code",
   "execution_count": 4,
   "metadata": {},
   "outputs": [],
   "source": [
    "#labels = [p.split(\"\\\\\")[-1].split(\"00\")[0].replace(\"_\", \" \").rstrip() for p in paths_list]\n",
    "#labels[:5]"
   ]
  },
  {
   "cell_type": "code",
   "execution_count": 5,
   "metadata": {
    "ExecuteTime": {
     "end_time": "2019-01-31T10:07:52.248807Z",
     "start_time": "2019-01-31T10:07:52.242595Z"
    }
   },
   "outputs": [
    {
     "data": {
      "text/plain": [
       "13233"
      ]
     },
     "execution_count": 5,
     "metadata": {},
     "output_type": "execute_result"
    }
   ],
   "source": [
    "len(labels)"
   ]
  },
  {
   "cell_type": "markdown",
   "metadata": {},
   "source": [
    "While there are a lot of images, many faces only have one example. This will make classification difficult. Let's find out how instances there are of individuals and select just the top 10."
   ]
  },
  {
   "cell_type": "code",
   "execution_count": 6,
   "metadata": {
    "ExecuteTime": {
     "end_time": "2019-01-31T10:10:28.762527Z",
     "start_time": "2019-01-31T10:10:28.750243Z"
    }
   },
   "outputs": [
    {
     "data": {
      "text/plain": [
       "Index(['Tony Blair', 'Donald Rumsfeld', 'Gerhard Schroeder', 'Colin Powell',\n",
       "       'George W Bush', 'Ariel Sharon', 'Hugo Chavez', 'Junichiro Koizumi',\n",
       "       'Jean Chretien', 'John Ashcroft'],\n",
       "      dtype='object')"
      ]
     },
     "execution_count": 6,
     "metadata": {},
     "output_type": "execute_result"
    }
   ],
   "source": [
    "face_labels = pd.Series(labels)\n",
    "top_faces = face_labels.value_counts()[:10]\n",
    "top_face_names = top_faces.index\n",
    "top_face_names"
   ]
  },
  {
   "cell_type": "code",
   "execution_count": 7,
   "metadata": {
    "ExecuteTime": {
     "end_time": "2019-01-31T10:17:23.371743Z",
     "start_time": "2019-01-31T10:17:23.365911Z"
    }
   },
   "outputs": [
    {
     "data": {
      "text/plain": [
       "RangeIndex(start=0, stop=13233, step=1)"
      ]
     },
     "execution_count": 7,
     "metadata": {},
     "output_type": "execute_result"
    }
   ],
   "source": [
    "face_labels.index"
   ]
  },
  {
   "cell_type": "markdown",
   "metadata": {},
   "source": [
    "We then transform the list into a dataframe, and reset_index() to create a simple lookup table with which to create numerical labels. We'll need them for the machine learning bit of the task."
   ]
  },
  {
   "cell_type": "code",
   "execution_count": 8,
   "metadata": {
    "ExecuteTime": {
     "end_time": "2019-01-31T10:09:37.921001Z",
     "start_time": "2019-01-31T10:09:37.900510Z"
    }
   },
   "outputs": [
    {
     "data": {
      "text/html": [
       "<div>\n",
       "<style scoped>\n",
       "    .dataframe tbody tr th:only-of-type {\n",
       "        vertical-align: middle;\n",
       "    }\n",
       "\n",
       "    .dataframe tbody tr th {\n",
       "        vertical-align: top;\n",
       "    }\n",
       "\n",
       "    .dataframe thead th {\n",
       "        text-align: right;\n",
       "    }\n",
       "</style>\n",
       "<table border=\"1\" class=\"dataframe\">\n",
       "  <thead>\n",
       "    <tr style=\"text-align: right;\">\n",
       "      <th></th>\n",
       "      <th>num_label</th>\n",
       "      <th>name</th>\n",
       "    </tr>\n",
       "  </thead>\n",
       "  <tbody>\n",
       "    <tr>\n",
       "      <th>0</th>\n",
       "      <td>0</td>\n",
       "      <td>Tony Blair</td>\n",
       "    </tr>\n",
       "    <tr>\n",
       "      <th>1</th>\n",
       "      <td>1</td>\n",
       "      <td>Donald Rumsfeld</td>\n",
       "    </tr>\n",
       "    <tr>\n",
       "      <th>2</th>\n",
       "      <td>2</td>\n",
       "      <td>Gerhard Schroeder</td>\n",
       "    </tr>\n",
       "    <tr>\n",
       "      <th>3</th>\n",
       "      <td>3</td>\n",
       "      <td>Colin Powell</td>\n",
       "    </tr>\n",
       "    <tr>\n",
       "      <th>4</th>\n",
       "      <td>4</td>\n",
       "      <td>George W Bush</td>\n",
       "    </tr>\n",
       "  </tbody>\n",
       "</table>\n",
       "</div>"
      ],
      "text/plain": [
       "   num_label               name\n",
       "0          0         Tony Blair\n",
       "1          1    Donald Rumsfeld\n",
       "2          2  Gerhard Schroeder\n",
       "3          3       Colin Powell\n",
       "4          4      George W Bush"
      ]
     },
     "execution_count": 8,
     "metadata": {},
     "output_type": "execute_result"
    }
   ],
   "source": [
    "face_lookup = pd.Series(top_face_names)\n",
    "face_lookup = face_lookup.reset_index()\n",
    "face_lookup.columns = ['num_label', 'name']\n",
    "face_lookup.head()"
   ]
  },
  {
   "cell_type": "markdown",
   "metadata": {
    "ExecuteTime": {
     "end_time": "2019-01-29T22:08:50.546788Z",
     "start_time": "2019-01-29T22:08:50.534773Z"
    }
   },
   "source": [
    "Now add that to face_labels so we have a numeric label. First we have to convert the face_labels to a DataFrame"
   ]
  },
  {
   "cell_type": "code",
   "execution_count": 9,
   "metadata": {
    "ExecuteTime": {
     "end_time": "2019-01-31T10:09:40.240132Z",
     "start_time": "2019-01-31T10:09:40.228120Z"
    }
   },
   "outputs": [
    {
     "data": {
      "text/html": [
       "<div>\n",
       "<style scoped>\n",
       "    .dataframe tbody tr th:only-of-type {\n",
       "        vertical-align: middle;\n",
       "    }\n",
       "\n",
       "    .dataframe tbody tr th {\n",
       "        vertical-align: top;\n",
       "    }\n",
       "\n",
       "    .dataframe thead th {\n",
       "        text-align: right;\n",
       "    }\n",
       "</style>\n",
       "<table border=\"1\" class=\"dataframe\">\n",
       "  <thead>\n",
       "    <tr style=\"text-align: right;\">\n",
       "      <th></th>\n",
       "      <th>idx</th>\n",
       "      <th>name</th>\n",
       "    </tr>\n",
       "  </thead>\n",
       "  <tbody>\n",
       "    <tr>\n",
       "      <th>0</th>\n",
       "      <td>0</td>\n",
       "      <td>German Khan</td>\n",
       "    </tr>\n",
       "    <tr>\n",
       "      <th>1</th>\n",
       "      <td>1</td>\n",
       "      <td>Stefano Gabbana</td>\n",
       "    </tr>\n",
       "    <tr>\n",
       "      <th>2</th>\n",
       "      <td>2</td>\n",
       "      <td>Dragan Covic</td>\n",
       "    </tr>\n",
       "    <tr>\n",
       "      <th>3</th>\n",
       "      <td>3</td>\n",
       "      <td>Jeff Hornacek</td>\n",
       "    </tr>\n",
       "    <tr>\n",
       "      <th>4</th>\n",
       "      <td>4</td>\n",
       "      <td>Sureyya Ayhan</td>\n",
       "    </tr>\n",
       "  </tbody>\n",
       "</table>\n",
       "</div>"
      ],
      "text/plain": [
       "   idx             name\n",
       "0    0      German Khan\n",
       "1    1  Stefano Gabbana\n",
       "2    2     Dragan Covic\n",
       "3    3    Jeff Hornacek\n",
       "4    4    Sureyya Ayhan"
      ]
     },
     "execution_count": 9,
     "metadata": {},
     "output_type": "execute_result"
    }
   ],
   "source": [
    "fac_labels = face_labels.reset_index()\n",
    "fac_labels.columns = ['idx', 'name']\n",
    "fac_labels.head()"
   ]
  },
  {
   "cell_type": "code",
   "execution_count": 10,
   "metadata": {
    "ExecuteTime": {
     "end_time": "2019-01-31T10:24:45.021913Z",
     "start_time": "2019-01-31T10:24:45.005580Z"
    }
   },
   "outputs": [
    {
     "data": {
      "text/html": [
       "<div>\n",
       "<style scoped>\n",
       "    .dataframe tbody tr th:only-of-type {\n",
       "        vertical-align: middle;\n",
       "    }\n",
       "\n",
       "    .dataframe tbody tr th {\n",
       "        vertical-align: top;\n",
       "    }\n",
       "\n",
       "    .dataframe thead th {\n",
       "        text-align: right;\n",
       "    }\n",
       "</style>\n",
       "<table border=\"1\" class=\"dataframe\">\n",
       "  <thead>\n",
       "    <tr style=\"text-align: right;\">\n",
       "      <th></th>\n",
       "      <th>idx</th>\n",
       "      <th>name</th>\n",
       "      <th>num_label</th>\n",
       "    </tr>\n",
       "  </thead>\n",
       "  <tbody>\n",
       "    <tr>\n",
       "      <th>0</th>\n",
       "      <td>2810</td>\n",
       "      <td>Gerhard Schroeder</td>\n",
       "      <td>2</td>\n",
       "    </tr>\n",
       "    <tr>\n",
       "      <th>1</th>\n",
       "      <td>2811</td>\n",
       "      <td>Gerhard Schroeder</td>\n",
       "      <td>2</td>\n",
       "    </tr>\n",
       "    <tr>\n",
       "      <th>2</th>\n",
       "      <td>2812</td>\n",
       "      <td>Gerhard Schroeder</td>\n",
       "      <td>2</td>\n",
       "    </tr>\n",
       "    <tr>\n",
       "      <th>3</th>\n",
       "      <td>2813</td>\n",
       "      <td>Gerhard Schroeder</td>\n",
       "      <td>2</td>\n",
       "    </tr>\n",
       "    <tr>\n",
       "      <th>4</th>\n",
       "      <td>2814</td>\n",
       "      <td>Gerhard Schroeder</td>\n",
       "      <td>2</td>\n",
       "    </tr>\n",
       "  </tbody>\n",
       "</table>\n",
       "</div>"
      ],
      "text/plain": [
       "    idx               name  num_label\n",
       "0  2810  Gerhard Schroeder          2\n",
       "1  2811  Gerhard Schroeder          2\n",
       "2  2812  Gerhard Schroeder          2\n",
       "3  2813  Gerhard Schroeder          2\n",
       "4  2814  Gerhard Schroeder          2"
      ]
     },
     "execution_count": 10,
     "metadata": {},
     "output_type": "execute_result"
    }
   ],
   "source": [
    "mgd = pd.merge(fac_labels, face_lookup, how=\"inner\", left_on='name', right_on=\"name\")\n",
    "mgd.head()"
   ]
  },
  {
   "cell_type": "code",
   "execution_count": 11,
   "metadata": {
    "ExecuteTime": {
     "end_time": "2019-01-31T10:24:58.170623Z",
     "start_time": "2019-01-31T10:24:58.165390Z"
    }
   },
   "outputs": [
    {
     "data": {
      "text/plain": [
       "(811, 3)"
      ]
     },
     "execution_count": 11,
     "metadata": {},
     "output_type": "execute_result"
    }
   ],
   "source": [
    "mgd.shape"
   ]
  },
  {
   "cell_type": "markdown",
   "metadata": {},
   "source": [
    "### Create test/train split"
   ]
  },
  {
   "cell_type": "markdown",
   "metadata": {},
   "source": [
    "So far we have a list of image data and a dataframe containing label data. The next step is to seperate our data into training and test data."
   ]
  },
  {
   "cell_type": "code",
   "execution_count": 12,
   "metadata": {
    "ExecuteTime": {
     "end_time": "2019-01-31T10:26:11.036333Z",
     "start_time": "2019-01-31T10:26:11.028366Z"
    }
   },
   "outputs": [],
   "source": [
    "df = mgd.set_index(\"idx\")\n",
    "df = mgd['name']\n",
    "y = mgd['num_label'] \n",
    "X_train, X_test, y_train, y_test = train_test_split(df, y, test_size=0.2, \n",
    "                                                    random_state=42)"
   ]
  },
  {
   "cell_type": "markdown",
   "metadata": {
    "ExecuteTime": {
     "end_time": "2019-01-31T10:27:44.112596Z",
     "start_time": "2019-01-31T10:27:44.103306Z"
    }
   },
   "source": [
    "We can use the index of both test and train to create numpy arrays for Keras to handle."
   ]
  },
  {
   "cell_type": "code",
   "execution_count": 13,
   "metadata": {
    "ExecuteTime": {
     "end_time": "2019-01-31T10:36:17.509444Z",
     "start_time": "2019-01-31T10:36:15.459175Z"
    }
   },
   "outputs": [],
   "source": [
    "img_train = [imread(img) for i, img in enumerate(paths_list) if i in X_train.index]\n",
    "img_test = [imread(img) for i, img in enumerate(paths_list) if i in X_test.index]\n"
   ]
  },
  {
   "cell_type": "markdown",
   "metadata": {},
   "source": [
    "### Now some final pre-preprocessing"
   ]
  },
  {
   "cell_type": "code",
   "execution_count": 14,
   "metadata": {
    "ExecuteTime": {
     "end_time": "2019-01-31T10:39:39.406771Z",
     "start_time": "2019-01-31T10:39:34.687141Z"
    }
   },
   "outputs": [
    {
     "name": "stderr",
     "output_type": "stream",
     "text": [
      "/Users/davidelks/anaconda3/lib/python3.6/site-packages/skimage/transform/_warps.py:105: UserWarning: The default mode, 'constant', will be changed to 'reflect' in skimage 0.15.\n",
      "  warn(\"The default mode, 'constant', will be changed to 'reflect' in \"\n"
     ]
    },
    {
     "data": {
      "image/png": "[encoded data removed]",
      "text/plain": [
       "<Figure size 432x288 with 2 Axes>"
      ]
     },
     "metadata": {
      "needs_background": "light"
     },
     "output_type": "display_data"
    }
   ],
   "source": [
    "def resize_image(img):\n",
    "    img = resize(img, (100, 100), anti_aliasing=True)\n",
    "    return img\n",
    "\n",
    "def rescale_image(img):\n",
    "    return img /255\n",
    "\n",
    "#First resize...\n",
    "img_train = [resize_image(i) for i in img_train]\n",
    "img_test = [resize_image(i) for i in img_test]\n",
    "\n",
    "#...then output a sample to check it has worked...\n",
    "io = resize_image(img_train[0])\n",
    "plt.figure()\n",
    "plt.imshow(io)\n",
    "plt.colorbar()\n",
    "plt.grid(False)\n",
    "plt.show()"
   ]
  },
  {
   "cell_type": "code",
   "execution_count": 15,
   "metadata": {
    "ExecuteTime": {
     "end_time": "2019-01-31T10:40:30.898422Z",
     "start_time": "2019-01-31T10:40:30.718945Z"
    },
    "scrolled": true
   },
   "outputs": [],
   "source": [
    "#And then rescale the RGB values to between 0 and 1 before we feed into the neural network\n",
    "img_train = [rescale_image(i) for i in img_train]\n",
    "img_test = [rescale_image(i) for i in img_test]"
   ]
  },
  {
   "cell_type": "markdown",
   "metadata": {},
   "source": [
    "### Finally, we convert the lists into numpy arrays to feed into the neural network..."
   ]
  },
  {
   "cell_type": "code",
   "execution_count": 16,
   "metadata": {
    "ExecuteTime": {
     "end_time": "2019-01-31T10:43:10.117685Z",
     "start_time": "2019-01-31T10:43:09.937306Z"
    }
   },
   "outputs": [],
   "source": [
    "img_train_np = np.array(img_train)\n",
    "img_test_np = np.array(img_test)"
   ]
  },
  {
   "cell_type": "code",
   "execution_count": 17,
   "metadata": {
    "ExecuteTime": {
     "end_time": "2019-01-31T10:44:01.334780Z",
     "start_time": "2019-01-31T10:44:01.239783Z"
    }
   },
   "outputs": [],
   "source": [
    "model = keras.Sequential([\n",
    "    keras.layers.Flatten(input_shape=(100, 100, 3)),\n",
    "    keras.layers.Dense(128, activation=tf.nn.relu),\n",
    "    keras.layers.Dense(10, activation=tf.nn.softmax)\n",
    "])"
   ]
  },
  {
   "cell_type": "code",
   "execution_count": 18,
   "metadata": {
    "ExecuteTime": {
     "end_time": "2019-01-31T10:44:51.210022Z",
     "start_time": "2019-01-31T10:44:51.112291Z"
    }
   },
   "outputs": [],
   "source": [
    "model.compile(optimizer='adam', \n",
    "              loss='sparse_categorical_crossentropy',\n",
    "              metrics=['accuracy'])"
   ]
  },
  {
   "cell_type": "markdown",
   "metadata": {},
   "source": [
    "We fit the model and save the history of training in history so we can plot the loss curve"
   ]
  },
  {
   "cell_type": "code",
   "execution_count": 34,
   "metadata": {
    "ExecuteTime": {
     "end_time": "2019-01-31T10:56:57.604165Z",
     "start_time": "2019-01-31T10:56:51.514923Z"
    }
   },
   "outputs": [
    {
     "name": "stdout",
     "output_type": "stream",
     "text": [
      "Train on 648 samples, validate on 163 samples\n",
      "Epoch 1/200\n",
      "648/648 [==============================] - 1s 2ms/step - loss: 0.5109 - acc: 0.9460 - val_loss: 3.5104 - val_acc: 0.1043\n",
      "Epoch 2/200\n",
      "648/648 [==============================] - 1s 2ms/step - loss: 0.5053 - acc: 0.9537 - val_loss: 3.5431 - val_acc: 0.1104\n",
      "Epoch 3/200\n",
      "648/648 [==============================] - 1s 2ms/step - loss: 0.5077 - acc: 0.9491 - val_loss: 3.4860 - val_acc: 0.0920\n",
      "Epoch 4/200\n",
      "648/648 [==============================] - 2s 2ms/step - loss: 0.5053 - acc: 0.9491 - val_loss: 3.5683 - val_acc: 0.0982\n",
      "Epoch 5/200\n",
      "648/648 [==============================] - 1s 2ms/step - loss: 0.4919 - acc: 0.9630 - val_loss: 3.5661 - val_acc: 0.0982\n",
      "Epoch 6/200\n",
      "648/648 [==============================] - 1s 2ms/step - loss: 0.4916 - acc: 0.9552 - val_loss: 3.5630 - val_acc: 0.0920\n",
      "Epoch 7/200\n",
      "648/648 [==============================] - 2s 2ms/step - loss: 0.4849 - acc: 0.9537 - val_loss: 3.5612 - val_acc: 0.0920\n",
      "Epoch 8/200\n",
      "648/648 [==============================] - 1s 2ms/step - loss: 0.4838 - acc: 0.9614 - val_loss: 3.5679 - val_acc: 0.1043\n",
      "Epoch 9/200\n",
      "648/648 [==============================] - 1s 2ms/step - loss: 0.4718 - acc: 0.9614 - val_loss: 3.5749 - val_acc: 0.1166\n",
      "Epoch 10/200\n",
      "648/648 [==============================] - 1s 2ms/step - loss: 0.4685 - acc: 0.9568 - val_loss: 3.5959 - val_acc: 0.1227\n",
      "Epoch 11/200\n",
      "648/648 [==============================] - 1s 2ms/step - loss: 0.4794 - acc: 0.9552 - val_loss: 3.5746 - val_acc: 0.1104\n",
      "Epoch 12/200\n",
      "648/648 [==============================] - 1s 2ms/step - loss: 0.4617 - acc: 0.9522 - val_loss: 3.6755 - val_acc: 0.1043\n",
      "Epoch 13/200\n",
      "648/648 [==============================] - 2s 2ms/step - loss: 0.4599 - acc: 0.9630 - val_loss: 3.5948 - val_acc: 0.1227\n",
      "Epoch 14/200\n",
      "648/648 [==============================] - 1s 2ms/step - loss: 0.4513 - acc: 0.9660 - val_loss: 3.5803 - val_acc: 0.0982\n",
      "Epoch 15/200\n",
      "648/648 [==============================] - 1s 2ms/step - loss: 0.4489 - acc: 0.9660 - val_loss: 3.6947 - val_acc: 0.0982\n",
      "Epoch 16/200\n",
      "648/648 [==============================] - 1s 2ms/step - loss: 0.4464 - acc: 0.9660 - val_loss: 3.6492 - val_acc: 0.1104\n",
      "Epoch 17/200\n",
      "648/648 [==============================] - 2s 2ms/step - loss: 0.4501 - acc: 0.9506 - val_loss: 3.6491 - val_acc: 0.1104\n",
      "Epoch 18/200\n",
      "648/648 [==============================] - 1s 2ms/step - loss: 0.4326 - acc: 0.9676 - val_loss: 3.6659 - val_acc: 0.1043\n",
      "Epoch 19/200\n",
      "648/648 [==============================] - 1s 2ms/step - loss: 0.4257 - acc: 0.9676 - val_loss: 3.6248 - val_acc: 0.1288\n",
      "Epoch 20/200\n",
      "648/648 [==============================] - 1s 2ms/step - loss: 0.4262 - acc: 0.9722 - val_loss: 3.7042 - val_acc: 0.1104\n",
      "Epoch 21/200\n",
      "648/648 [==============================] - 1s 2ms/step - loss: 0.4195 - acc: 0.9738 - val_loss: 3.7054 - val_acc: 0.1166\n",
      "Epoch 22/200\n",
      "648/648 [==============================] - 1s 2ms/step - loss: 0.4173 - acc: 0.9676 - val_loss: 3.6676 - val_acc: 0.1043\n",
      "Epoch 23/200\n",
      "648/648 [==============================] - 1s 2ms/step - loss: 0.4153 - acc: 0.9660 - val_loss: 3.7064 - val_acc: 0.1104\n",
      "Epoch 24/200\n",
      "648/648 [==============================] - 1s 2ms/step - loss: 0.4075 - acc: 0.9738 - val_loss: 3.6569 - val_acc: 0.1288\n",
      "Epoch 25/200\n",
      "648/648 [==============================] - 1s 2ms/step - loss: 0.4029 - acc: 0.9738 - val_loss: 3.7314 - val_acc: 0.1104\n",
      "Epoch 26/200\n",
      "648/648 [==============================] - 1s 2ms/step - loss: 0.3985 - acc: 0.9738 - val_loss: 3.7359 - val_acc: 0.1043\n",
      "Epoch 27/200\n",
      "648/648 [==============================] - 2s 3ms/step - loss: 0.3991 - acc: 0.9707 - val_loss: 3.7457 - val_acc: 0.1227\n",
      "Epoch 28/200\n",
      "648/648 [==============================] - 2s 2ms/step - loss: 0.3862 - acc: 0.9753 - val_loss: 3.7269 - val_acc: 0.1104\n",
      "Epoch 29/200\n",
      "648/648 [==============================] - 1s 2ms/step - loss: 0.3886 - acc: 0.9769 - val_loss: 3.7987 - val_acc: 0.1043\n",
      "Epoch 30/200\n",
      "648/648 [==============================] - 2s 3ms/step - loss: 0.3869 - acc: 0.9753 - val_loss: 3.7707 - val_acc: 0.0920\n",
      "Epoch 31/200\n",
      "648/648 [==============================] - 1s 2ms/step - loss: 0.3785 - acc: 0.9784 - val_loss: 3.8019 - val_acc: 0.0982\n",
      "Epoch 32/200\n",
      "648/648 [==============================] - 1s 2ms/step - loss: 0.3826 - acc: 0.9738 - val_loss: 3.8101 - val_acc: 0.1043\n",
      "Epoch 33/200\n",
      "648/648 [==============================] - 1s 2ms/step - loss: 0.3707 - acc: 0.9784 - val_loss: 3.8055 - val_acc: 0.0920\n",
      "Epoch 34/200\n",
      "648/648 [==============================] - 1s 2ms/step - loss: 0.3727 - acc: 0.9769 - val_loss: 3.8125 - val_acc: 0.1043\n",
      "Epoch 35/200\n",
      "648/648 [==============================] - 1s 2ms/step - loss: 0.3686 - acc: 0.9753 - val_loss: 3.8724 - val_acc: 0.1043\n",
      "Epoch 36/200\n",
      "648/648 [==============================] - 1s 2ms/step - loss: 0.3667 - acc: 0.9707 - val_loss: 3.8407 - val_acc: 0.0982\n",
      "Epoch 37/200\n",
      "648/648 [==============================] - 1s 2ms/step - loss: 0.3661 - acc: 0.9753 - val_loss: 3.8494 - val_acc: 0.1166\n",
      "Epoch 38/200\n",
      "648/648 [==============================] - 1s 2ms/step - loss: 0.3564 - acc: 0.9784 - val_loss: 3.8337 - val_acc: 0.1166\n",
      "Epoch 39/200\n",
      "648/648 [==============================] - 1s 2ms/step - loss: 0.3509 - acc: 0.9769 - val_loss: 3.9040 - val_acc: 0.0920\n",
      "Epoch 40/200\n",
      "648/648 [==============================] - 1s 2ms/step - loss: 0.3510 - acc: 0.9830 - val_loss: 3.8707 - val_acc: 0.1166\n",
      "Epoch 41/200\n",
      "648/648 [==============================] - 1s 2ms/step - loss: 0.3383 - acc: 0.9830 - val_loss: 3.8340 - val_acc: 0.1043\n",
      "Epoch 42/200\n",
      "648/648 [==============================] - 1s 2ms/step - loss: 0.3345 - acc: 0.9846 - val_loss: 3.8349 - val_acc: 0.1166\n",
      "Epoch 43/200\n",
      "648/648 [==============================] - 1s 2ms/step - loss: 0.3380 - acc: 0.9799 - val_loss: 3.8695 - val_acc: 0.1166\n",
      "Epoch 44/200\n",
      "648/648 [==============================] - 1s 2ms/step - loss: 0.3262 - acc: 0.9830 - val_loss: 3.9576 - val_acc: 0.1104\n",
      "Epoch 45/200\n",
      "648/648 [==============================] - 1s 2ms/step - loss: 0.3268 - acc: 0.9846 - val_loss: 3.8807 - val_acc: 0.1104\n",
      "Epoch 46/200\n",
      "648/648 [==============================] - 1s 2ms/step - loss: 0.3214 - acc: 0.9830 - val_loss: 3.8207 - val_acc: 0.1166\n",
      "Epoch 47/200\n",
      "648/648 [==============================] - 1s 2ms/step - loss: 0.3232 - acc: 0.9815 - val_loss: 3.9069 - val_acc: 0.1166\n",
      "Epoch 48/200\n",
      "648/648 [==============================] - 1s 2ms/step - loss: 0.3174 - acc: 0.9830 - val_loss: 3.9076 - val_acc: 0.1166\n",
      "Epoch 49/200\n",
      "648/648 [==============================] - 1s 2ms/step - loss: 0.3091 - acc: 0.9815 - val_loss: 3.9552 - val_acc: 0.0982\n",
      "Epoch 50/200\n",
      "648/648 [==============================] - 1s 2ms/step - loss: 0.3100 - acc: 0.9861 - val_loss: 3.9319 - val_acc: 0.0982\n",
      "Epoch 51/200\n",
      "648/648 [==============================] - 2s 2ms/step - loss: 0.2989 - acc: 0.9907 - val_loss: 3.9744 - val_acc: 0.1166\n",
      "Epoch 52/200\n",
      "648/648 [==============================] - ETA: 0s - loss: 0.2997 - acc: 0.982 - 1s 2ms/step - loss: 0.3001 - acc: 0.9830 - val_loss: 3.9925 - val_acc: 0.1043\n",
      "Epoch 53/200\n",
      "648/648 [==============================] - 2s 2ms/step - loss: 0.3021 - acc: 0.9815 - val_loss: 3.9570 - val_acc: 0.1104\n",
      "Epoch 54/200\n",
      "648/648 [==============================] - 1s 2ms/step - loss: 0.3018 - acc: 0.9861 - val_loss: 4.0264 - val_acc: 0.1043\n",
      "Epoch 55/200\n",
      "648/648 [==============================] - 1s 2ms/step - loss: 0.2898 - acc: 0.9846 - val_loss: 3.9891 - val_acc: 0.1227\n",
      "Epoch 56/200\n",
      "648/648 [==============================] - 1s 2ms/step - loss: 0.2912 - acc: 0.9861 - val_loss: 4.0060 - val_acc: 0.1166\n",
      "Epoch 57/200\n",
      "648/648 [==============================] - 1s 2ms/step - loss: 0.2857 - acc: 0.9907 - val_loss: 3.9889 - val_acc: 0.1227\n",
      "Epoch 58/200\n",
      "648/648 [==============================] - 1s 2ms/step - loss: 0.2800 - acc: 0.9861 - val_loss: 4.0141 - val_acc: 0.1043\n",
      "Epoch 59/200\n",
      "648/648 [==============================] - 1s 2ms/step - loss: 0.2766 - acc: 0.9892 - val_loss: 3.9844 - val_acc: 0.1166\n",
      "Epoch 60/200\n",
      "648/648 [==============================] - 1s 2ms/step - loss: 0.2753 - acc: 0.9907 - val_loss: 4.0668 - val_acc: 0.1043\n",
      "Epoch 61/200\n"
     ]
    },
    {
     "name": "stdout",
     "output_type": "stream",
     "text": [
      "648/648 [==============================] - 1s 2ms/step - loss: 0.2762 - acc: 0.9877 - val_loss: 4.0598 - val_acc: 0.0982\n",
      "Epoch 62/200\n",
      "648/648 [==============================] - 1s 2ms/step - loss: 0.2743 - acc: 0.9861 - val_loss: 4.0153 - val_acc: 0.1166\n",
      "Epoch 63/200\n",
      "648/648 [==============================] - 1s 2ms/step - loss: 0.2727 - acc: 0.9892 - val_loss: 4.0234 - val_acc: 0.1104\n",
      "Epoch 64/200\n",
      "648/648 [==============================] - 1s 2ms/step - loss: 0.2629 - acc: 0.9907 - val_loss: 4.0429 - val_acc: 0.1350\n",
      "Epoch 65/200\n",
      "648/648 [==============================] - 1s 2ms/step - loss: 0.2592 - acc: 0.9938 - val_loss: 4.0553 - val_acc: 0.1350\n",
      "Epoch 66/200\n",
      "648/648 [==============================] - 1s 2ms/step - loss: 0.2612 - acc: 0.9892 - val_loss: 4.1073 - val_acc: 0.1104\n",
      "Epoch 67/200\n",
      "648/648 [==============================] - 1s 2ms/step - loss: 0.2563 - acc: 0.9907 - val_loss: 4.0702 - val_acc: 0.1043\n",
      "Epoch 68/200\n",
      "648/648 [==============================] - 1s 2ms/step - loss: 0.2508 - acc: 0.9892 - val_loss: 4.0809 - val_acc: 0.1104\n",
      "Epoch 69/200\n",
      "648/648 [==============================] - 1s 2ms/step - loss: 0.2508 - acc: 0.9907 - val_loss: 4.0872 - val_acc: 0.1227\n",
      "Epoch 70/200\n",
      "648/648 [==============================] - 1s 2ms/step - loss: 0.2442 - acc: 0.9877 - val_loss: 4.0696 - val_acc: 0.1166\n",
      "Epoch 71/200\n",
      "648/648 [==============================] - 1s 2ms/step - loss: 0.2454 - acc: 0.9907 - val_loss: 4.0962 - val_acc: 0.1227\n",
      "Epoch 72/200\n",
      "648/648 [==============================] - 1s 2ms/step - loss: 0.2435 - acc: 0.9907 - val_loss: 4.1132 - val_acc: 0.1227\n",
      "Epoch 73/200\n",
      "648/648 [==============================] - 1s 2ms/step - loss: 0.2389 - acc: 0.9923 - val_loss: 4.1299 - val_acc: 0.1104\n",
      "Epoch 74/200\n",
      "648/648 [==============================] - 1s 2ms/step - loss: 0.2359 - acc: 0.9907 - val_loss: 4.1495 - val_acc: 0.1166\n",
      "Epoch 75/200\n",
      "648/648 [==============================] - 1s 2ms/step - loss: 0.2352 - acc: 0.9923 - val_loss: 4.1707 - val_acc: 0.1104\n",
      "Epoch 76/200\n",
      "648/648 [==============================] - 1s 2ms/step - loss: 0.2332 - acc: 0.9969 - val_loss: 4.1807 - val_acc: 0.1104\n",
      "Epoch 77/200\n",
      "648/648 [==============================] - 1s 2ms/step - loss: 0.2275 - acc: 0.9954 - val_loss: 4.1703 - val_acc: 0.1104\n",
      "Epoch 78/200\n",
      "648/648 [==============================] - 1s 2ms/step - loss: 0.2256 - acc: 0.9969 - val_loss: 4.1832 - val_acc: 0.1104\n",
      "Epoch 79/200\n",
      "648/648 [==============================] - 1s 2ms/step - loss: 0.2232 - acc: 0.9938 - val_loss: 4.1928 - val_acc: 0.1043\n",
      "Epoch 80/200\n",
      "648/648 [==============================] - 1s 2ms/step - loss: 0.2193 - acc: 0.9923 - val_loss: 4.2361 - val_acc: 0.0920\n",
      "Epoch 81/200\n",
      "648/648 [==============================] - 1s 2ms/step - loss: 0.2176 - acc: 0.9954 - val_loss: 4.1893 - val_acc: 0.1104\n",
      "Epoch 82/200\n",
      "648/648 [==============================] - 2s 3ms/step - loss: 0.2129 - acc: 0.9954 - val_loss: 4.1636 - val_acc: 0.1227\n",
      "Epoch 83/200\n",
      "648/648 [==============================] - 2s 2ms/step - loss: 0.2135 - acc: 0.9954 - val_loss: 4.2987 - val_acc: 0.1288\n",
      "Epoch 84/200\n",
      "648/648 [==============================] - 1s 2ms/step - loss: 0.2088 - acc: 0.9969 - val_loss: 4.2356 - val_acc: 0.1166\n",
      "Epoch 85/200\n",
      "648/648 [==============================] - 2s 2ms/step - loss: 0.2083 - acc: 0.9954 - val_loss: 4.2185 - val_acc: 0.1227\n",
      "Epoch 86/200\n",
      "648/648 [==============================] - 1s 2ms/step - loss: 0.2036 - acc: 0.9954 - val_loss: 4.2551 - val_acc: 0.1043\n",
      "Epoch 87/200\n",
      "648/648 [==============================] - 1s 2ms/step - loss: 0.2037 - acc: 0.9954 - val_loss: 4.2155 - val_acc: 0.1227\n",
      "Epoch 88/200\n",
      "648/648 [==============================] - 2s 2ms/step - loss: 0.2030 - acc: 0.9938 - val_loss: 4.2737 - val_acc: 0.1043\n",
      "Epoch 89/200\n",
      "648/648 [==============================] - 1s 2ms/step - loss: 0.1958 - acc: 0.9954 - val_loss: 4.2574 - val_acc: 0.1104\n",
      "Epoch 90/200\n",
      "648/648 [==============================] - 1s 2ms/step - loss: 0.1973 - acc: 0.9954 - val_loss: 4.2609 - val_acc: 0.1104\n",
      "Epoch 91/200\n",
      "648/648 [==============================] - 1s 2ms/step - loss: 0.1969 - acc: 0.9969 - val_loss: 4.2833 - val_acc: 0.1350\n",
      "Epoch 92/200\n",
      "648/648 [==============================] - 1s 2ms/step - loss: 0.1954 - acc: 0.9954 - val_loss: 4.2744 - val_acc: 0.1043\n",
      "Epoch 93/200\n",
      "648/648 [==============================] - 1s 2ms/step - loss: 0.1880 - acc: 0.9969 - val_loss: 4.2919 - val_acc: 0.1043\n",
      "Epoch 94/200\n",
      "648/648 [==============================] - 1s 2ms/step - loss: 0.1880 - acc: 0.9969 - val_loss: 4.2927 - val_acc: 0.1288\n",
      "Epoch 95/200\n",
      "648/648 [==============================] - 1s 2ms/step - loss: 0.1842 - acc: 0.9969 - val_loss: 4.3288 - val_acc: 0.1288\n",
      "Epoch 96/200\n",
      "648/648 [==============================] - 1s 2ms/step - loss: 0.1820 - acc: 0.9969 - val_loss: 4.3272 - val_acc: 0.1166\n",
      "Epoch 97/200\n",
      "648/648 [==============================] - 1s 2ms/step - loss: 0.1811 - acc: 0.9969 - val_loss: 4.3411 - val_acc: 0.1104\n",
      "Epoch 98/200\n",
      "648/648 [==============================] - 2s 3ms/step - loss: 0.1801 - acc: 0.9969 - val_loss: 4.3218 - val_acc: 0.1104\n",
      "Epoch 99/200\n",
      "648/648 [==============================] - 2s 3ms/step - loss: 0.1782 - acc: 0.9969 - val_loss: 4.3119 - val_acc: 0.1288\n",
      "Epoch 100/200\n",
      "648/648 [==============================] - 2s 2ms/step - loss: 0.1766 - acc: 0.9969 - val_loss: 4.3182 - val_acc: 0.1104\n",
      "Epoch 101/200\n",
      "648/648 [==============================] - 2s 3ms/step - loss: 0.1748 - acc: 0.9969 - val_loss: 4.3936 - val_acc: 0.1104\n",
      "Epoch 102/200\n",
      "648/648 [==============================] - 2s 3ms/step - loss: 0.1715 - acc: 0.9969 - val_loss: 4.3543 - val_acc: 0.1104\n",
      "Epoch 103/200\n",
      "648/648 [==============================] - 2s 3ms/step - loss: 0.1767 - acc: 0.9969 - val_loss: 4.3597 - val_acc: 0.1166\n",
      "Epoch 104/200\n",
      "648/648 [==============================] - 2s 3ms/step - loss: 0.1736 - acc: 0.9969 - val_loss: 4.3686 - val_acc: 0.1166\n",
      "Epoch 105/200\n",
      "648/648 [==============================] - 2s 2ms/step - loss: 0.1678 - acc: 0.9969 - val_loss: 4.4066 - val_acc: 0.1104\n",
      "Epoch 106/200\n",
      "648/648 [==============================] - 1s 2ms/step - loss: 0.1628 - acc: 0.9969 - val_loss: 4.4560 - val_acc: 0.1104\n",
      "Epoch 107/200\n",
      "648/648 [==============================] - 1s 2ms/step - loss: 0.1604 - acc: 0.9969 - val_loss: 4.4213 - val_acc: 0.1166\n",
      "Epoch 108/200\n",
      "648/648 [==============================] - 1s 2ms/step - loss: 0.1594 - acc: 0.9985 - val_loss: 4.4322 - val_acc: 0.1104\n",
      "Epoch 109/200\n",
      "648/648 [==============================] - 1s 2ms/step - loss: 0.1585 - acc: 1.0000 - val_loss: 4.4797 - val_acc: 0.0920\n",
      "Epoch 110/200\n",
      "648/648 [==============================] - 2s 2ms/step - loss: 0.1593 - acc: 1.0000 - val_loss: 4.4501 - val_acc: 0.1166\n",
      "Epoch 111/200\n",
      "648/648 [==============================] - 2s 2ms/step - loss: 0.1515 - acc: 1.0000 - val_loss: 4.4659 - val_acc: 0.1104\n",
      "Epoch 112/200\n",
      "648/648 [==============================] - 1s 2ms/step - loss: 0.1492 - acc: 0.9985 - val_loss: 4.4624 - val_acc: 0.1104\n",
      "Epoch 113/200\n",
      "648/648 [==============================] - 1s 2ms/step - loss: 0.1524 - acc: 1.0000 - val_loss: 4.4812 - val_acc: 0.1166\n",
      "Epoch 114/200\n",
      "648/648 [==============================] - 2s 3ms/step - loss: 0.1479 - acc: 1.0000 - val_loss: 4.5142 - val_acc: 0.1166\n",
      "Epoch 115/200\n",
      "648/648 [==============================] - 2s 3ms/step - loss: 0.1472 - acc: 1.0000 - val_loss: 4.5175 - val_acc: 0.1043\n",
      "Epoch 116/200\n",
      "648/648 [==============================] - 2s 3ms/step - loss: 0.1464 - acc: 1.0000 - val_loss: 4.4933 - val_acc: 0.1104\n",
      "Epoch 117/200\n",
      "648/648 [==============================] - 2s 2ms/step - loss: 0.1442 - acc: 0.9985 - val_loss: 4.4940 - val_acc: 0.1104\n",
      "Epoch 118/200\n",
      "648/648 [==============================] - 2s 3ms/step - loss: 0.1406 - acc: 1.0000 - val_loss: 4.5017 - val_acc: 0.1227\n",
      "Epoch 119/200\n",
      "648/648 [==============================] - 2s 3ms/step - loss: 0.1418 - acc: 1.0000 - val_loss: 4.5031 - val_acc: 0.1166\n",
      "Epoch 120/200\n",
      "648/648 [==============================] - 1s 2ms/step - loss: 0.1374 - acc: 1.0000 - val_loss: 4.5364 - val_acc: 0.1104\n",
      "Epoch 121/200\n",
      "648/648 [==============================] - 1s 2ms/step - loss: 0.1382 - acc: 1.0000 - val_loss: 4.5772 - val_acc: 0.0982\n",
      "Epoch 122/200\n"
     ]
    },
    {
     "name": "stdout",
     "output_type": "stream",
     "text": [
      "648/648 [==============================] - 1s 2ms/step - loss: 0.1343 - acc: 1.0000 - val_loss: 4.5570 - val_acc: 0.1043\n",
      "Epoch 123/200\n",
      "648/648 [==============================] - 1s 2ms/step - loss: 0.1332 - acc: 0.9985 - val_loss: 4.5924 - val_acc: 0.1104\n",
      "Epoch 124/200\n",
      "648/648 [==============================] - 1s 2ms/step - loss: 0.1336 - acc: 1.0000 - val_loss: 4.5651 - val_acc: 0.1043\n",
      "Epoch 125/200\n",
      "648/648 [==============================] - 1s 2ms/step - loss: 0.1286 - acc: 1.0000 - val_loss: 4.5624 - val_acc: 0.1166\n",
      "Epoch 126/200\n",
      "648/648 [==============================] - 1s 2ms/step - loss: 0.1286 - acc: 1.0000 - val_loss: 4.5679 - val_acc: 0.1227\n",
      "Epoch 127/200\n",
      "648/648 [==============================] - 1s 2ms/step - loss: 0.1254 - acc: 1.0000 - val_loss: 4.6217 - val_acc: 0.1043\n",
      "Epoch 128/200\n",
      "648/648 [==============================] - 1s 2ms/step - loss: 0.1247 - acc: 1.0000 - val_loss: 4.6198 - val_acc: 0.1166\n",
      "Epoch 129/200\n",
      "648/648 [==============================] - 1s 2ms/step - loss: 0.1263 - acc: 1.0000 - val_loss: 4.6301 - val_acc: 0.0982\n",
      "Epoch 130/200\n",
      "648/648 [==============================] - 1s 2ms/step - loss: 0.1228 - acc: 1.0000 - val_loss: 4.6208 - val_acc: 0.1166\n",
      "Epoch 131/200\n",
      "648/648 [==============================] - 1s 2ms/step - loss: 0.1225 - acc: 1.0000 - val_loss: 4.6272 - val_acc: 0.1104\n",
      "Epoch 132/200\n",
      "648/648 [==============================] - 1s 2ms/step - loss: 0.1248 - acc: 0.9985 - val_loss: 4.6484 - val_acc: 0.1104\n",
      "Epoch 133/200\n",
      "648/648 [==============================] - 1s 2ms/step - loss: 0.1187 - acc: 1.0000 - val_loss: 4.6161 - val_acc: 0.1104\n",
      "Epoch 134/200\n",
      "648/648 [==============================] - 2s 2ms/step - loss: 0.1172 - acc: 1.0000 - val_loss: 4.6663 - val_acc: 0.1104\n",
      "Epoch 135/200\n",
      "648/648 [==============================] - 1s 2ms/step - loss: 0.1173 - acc: 1.0000 - val_loss: 4.6394 - val_acc: 0.1166\n",
      "Epoch 136/200\n",
      "648/648 [==============================] - 1s 2ms/step - loss: 0.1149 - acc: 1.0000 - val_loss: 4.6663 - val_acc: 0.0982\n",
      "Epoch 137/200\n",
      "648/648 [==============================] - 1s 2ms/step - loss: 0.1123 - acc: 1.0000 - val_loss: 4.6570 - val_acc: 0.1166\n",
      "Epoch 138/200\n",
      "648/648 [==============================] - 1s 2ms/step - loss: 0.1121 - acc: 1.0000 - val_loss: 4.6869 - val_acc: 0.1043\n",
      "Epoch 139/200\n",
      "648/648 [==============================] - 1s 2ms/step - loss: 0.1124 - acc: 1.0000 - val_loss: 4.7175 - val_acc: 0.1166\n",
      "Epoch 140/200\n",
      "648/648 [==============================] - 1s 2ms/step - loss: 0.1100 - acc: 1.0000 - val_loss: 4.6451 - val_acc: 0.1043\n",
      "Epoch 141/200\n",
      "648/648 [==============================] - 1s 2ms/step - loss: 0.1100 - acc: 1.0000 - val_loss: 4.7432 - val_acc: 0.0982\n",
      "Epoch 142/200\n",
      "648/648 [==============================] - 1s 2ms/step - loss: 0.1083 - acc: 1.0000 - val_loss: 4.6853 - val_acc: 0.1104\n",
      "Epoch 143/200\n",
      "648/648 [==============================] - 1s 2ms/step - loss: 0.1056 - acc: 1.0000 - val_loss: 4.7303 - val_acc: 0.1104\n",
      "Epoch 144/200\n",
      "648/648 [==============================] - 1s 2ms/step - loss: 0.1044 - acc: 1.0000 - val_loss: 4.7234 - val_acc: 0.1227\n",
      "Epoch 145/200\n",
      "648/648 [==============================] - 1s 2ms/step - loss: 0.1051 - acc: 1.0000 - val_loss: 4.7537 - val_acc: 0.1166\n",
      "Epoch 146/200\n",
      "648/648 [==============================] - 1s 2ms/step - loss: 0.1028 - acc: 1.0000 - val_loss: 4.7132 - val_acc: 0.1166\n",
      "Epoch 147/200\n",
      "648/648 [==============================] - 1s 2ms/step - loss: 0.0996 - acc: 1.0000 - val_loss: 4.7736 - val_acc: 0.1166\n",
      "Epoch 148/200\n",
      "648/648 [==============================] - 1s 2ms/step - loss: 0.0995 - acc: 1.0000 - val_loss: 4.7872 - val_acc: 0.1104\n",
      "Epoch 149/200\n",
      "648/648 [==============================] - 2s 2ms/step - loss: 0.0983 - acc: 1.0000 - val_loss: 4.7948 - val_acc: 0.1166\n",
      "Epoch 150/200\n",
      "648/648 [==============================] - 1s 2ms/step - loss: 0.0969 - acc: 1.0000 - val_loss: 4.7906 - val_acc: 0.1166\n",
      "Epoch 151/200\n",
      "648/648 [==============================] - 1s 2ms/step - loss: 0.0959 - acc: 1.0000 - val_loss: 4.7881 - val_acc: 0.1104\n",
      "Epoch 152/200\n",
      "648/648 [==============================] - 1s 2ms/step - loss: 0.0950 - acc: 1.0000 - val_loss: 4.7849 - val_acc: 0.1166\n",
      "Epoch 153/200\n",
      "648/648 [==============================] - 1s 2ms/step - loss: 0.0921 - acc: 1.0000 - val_loss: 4.8170 - val_acc: 0.1166\n",
      "Epoch 154/200\n",
      "648/648 [==============================] - 1s 2ms/step - loss: 0.0939 - acc: 1.0000 - val_loss: 4.8085 - val_acc: 0.1166\n",
      "Epoch 155/200\n",
      "648/648 [==============================] - 1s 2ms/step - loss: 0.0915 - acc: 1.0000 - val_loss: 4.8069 - val_acc: 0.1227\n",
      "Epoch 156/200\n",
      "648/648 [==============================] - 2s 2ms/step - loss: 0.0912 - acc: 1.0000 - val_loss: 4.8619 - val_acc: 0.1104\n",
      "Epoch 157/200\n",
      "648/648 [==============================] - 1s 2ms/step - loss: 0.0907 - acc: 1.0000 - val_loss: 4.8672 - val_acc: 0.1043\n",
      "Epoch 158/200\n",
      "648/648 [==============================] - 1s 2ms/step - loss: 0.0913 - acc: 1.0000 - val_loss: 4.9096 - val_acc: 0.1043\n",
      "Epoch 159/200\n",
      "648/648 [==============================] - 1s 2ms/step - loss: 0.0891 - acc: 1.0000 - val_loss: 4.8332 - val_acc: 0.1104\n",
      "Epoch 160/200\n",
      "648/648 [==============================] - 1s 2ms/step - loss: 0.0855 - acc: 1.0000 - val_loss: 4.8976 - val_acc: 0.1104\n",
      "Epoch 161/200\n",
      "648/648 [==============================] - 1s 2ms/step - loss: 0.0838 - acc: 1.0000 - val_loss: 4.8564 - val_acc: 0.1166\n",
      "Epoch 162/200\n",
      "648/648 [==============================] - 1s 2ms/step - loss: 0.0838 - acc: 1.0000 - val_loss: 4.9060 - val_acc: 0.0982\n",
      "Epoch 163/200\n",
      "648/648 [==============================] - 2s 3ms/step - loss: 0.0818 - acc: 1.0000 - val_loss: 4.9155 - val_acc: 0.1104\n",
      "Epoch 164/200\n",
      "648/648 [==============================] - 2s 3ms/step - loss: 0.0827 - acc: 1.0000 - val_loss: 4.8977 - val_acc: 0.1104\n",
      "Epoch 165/200\n",
      "648/648 [==============================] - 2s 2ms/step - loss: 0.0813 - acc: 1.0000 - val_loss: 4.9144 - val_acc: 0.1104\n",
      "Epoch 166/200\n",
      "648/648 [==============================] - 2s 3ms/step - loss: 0.0814 - acc: 1.0000 - val_loss: 4.9088 - val_acc: 0.1104\n",
      "Epoch 167/200\n",
      "648/648 [==============================] - 1s 2ms/step - loss: 0.0798 - acc: 1.0000 - val_loss: 4.9578 - val_acc: 0.1043\n",
      "Epoch 168/200\n",
      "648/648 [==============================] - 2s 2ms/step - loss: 0.0809 - acc: 1.0000 - val_loss: 4.8876 - val_acc: 0.1166\n",
      "Epoch 169/200\n",
      "648/648 [==============================] - 2s 2ms/step - loss: 0.0771 - acc: 1.0000 - val_loss: 4.9306 - val_acc: 0.1104\n",
      "Epoch 170/200\n",
      "648/648 [==============================] - 1s 2ms/step - loss: 0.0768 - acc: 1.0000 - val_loss: 4.9145 - val_acc: 0.1166\n",
      "Epoch 171/200\n",
      "648/648 [==============================] - 2s 2ms/step - loss: 0.0757 - acc: 1.0000 - val_loss: 4.9718 - val_acc: 0.1166\n",
      "Epoch 172/200\n",
      "648/648 [==============================] - 1s 2ms/step - loss: 0.0755 - acc: 1.0000 - val_loss: 5.0124 - val_acc: 0.1104\n",
      "Epoch 173/200\n",
      "648/648 [==============================] - 1s 2ms/step - loss: 0.0765 - acc: 1.0000 - val_loss: 5.0006 - val_acc: 0.1104\n",
      "Epoch 174/200\n",
      "648/648 [==============================] - 1s 2ms/step - loss: 0.0723 - acc: 1.0000 - val_loss: 4.9787 - val_acc: 0.1227\n",
      "Epoch 175/200\n",
      "648/648 [==============================] - 1s 2ms/step - loss: 0.0728 - acc: 1.0000 - val_loss: 5.0452 - val_acc: 0.0982\n",
      "Epoch 176/200\n",
      "648/648 [==============================] - 1s 2ms/step - loss: 0.0726 - acc: 1.0000 - val_loss: 5.0211 - val_acc: 0.1104\n",
      "Epoch 177/200\n",
      "648/648 [==============================] - 1s 2ms/step - loss: 0.0704 - acc: 1.0000 - val_loss: 5.0333 - val_acc: 0.1043\n",
      "Epoch 178/200\n",
      "648/648 [==============================] - 1s 2ms/step - loss: 0.0687 - acc: 1.0000 - val_loss: 5.0162 - val_acc: 0.1227\n",
      "Epoch 179/200\n",
      "648/648 [==============================] - 1s 2ms/step - loss: 0.0687 - acc: 1.0000 - val_loss: 5.0046 - val_acc: 0.1043\n",
      "Epoch 180/200\n",
      "648/648 [==============================] - 1s 2ms/step - loss: 0.0680 - acc: 1.0000 - val_loss: 5.0916 - val_acc: 0.1227\n",
      "Epoch 181/200\n",
      "648/648 [==============================] - 1s 2ms/step - loss: 0.0672 - acc: 1.0000 - val_loss: 5.0145 - val_acc: 0.1166\n",
      "Epoch 182/200\n",
      "648/648 [==============================] - 2s 2ms/step - loss: 0.0653 - acc: 1.0000 - val_loss: 5.0650 - val_acc: 0.1104\n"
     ]
    },
    {
     "name": "stdout",
     "output_type": "stream",
     "text": [
      "Epoch 183/200\n",
      "648/648 [==============================] - 1s 2ms/step - loss: 0.0661 - acc: 1.0000 - val_loss: 5.0913 - val_acc: 0.1227\n",
      "Epoch 184/200\n",
      "648/648 [==============================] - 1s 2ms/step - loss: 0.0678 - acc: 1.0000 - val_loss: 5.0805 - val_acc: 0.1227\n",
      "Epoch 185/200\n",
      "648/648 [==============================] - 1s 2ms/step - loss: 0.0671 - acc: 1.0000 - val_loss: 5.1199 - val_acc: 0.1104\n",
      "Epoch 186/200\n",
      "648/648 [==============================] - 1s 2ms/step - loss: 0.0645 - acc: 1.0000 - val_loss: 5.0824 - val_acc: 0.1227\n",
      "Epoch 187/200\n",
      "648/648 [==============================] - 1s 2ms/step - loss: 0.0639 - acc: 1.0000 - val_loss: 5.0648 - val_acc: 0.1411\n",
      "Epoch 188/200\n",
      "648/648 [==============================] - 1s 2ms/step - loss: 0.0643 - acc: 1.0000 - val_loss: 5.0647 - val_acc: 0.1166\n",
      "Epoch 189/200\n",
      "648/648 [==============================] - 1s 2ms/step - loss: 0.0610 - acc: 1.0000 - val_loss: 5.1083 - val_acc: 0.1104\n",
      "Epoch 190/200\n",
      "648/648 [==============================] - 1s 2ms/step - loss: 0.0615 - acc: 1.0000 - val_loss: 5.1676 - val_acc: 0.1043\n",
      "Epoch 191/200\n",
      "648/648 [==============================] - 1s 2ms/step - loss: 0.0600 - acc: 1.0000 - val_loss: 5.0641 - val_acc: 0.1288\n",
      "Epoch 192/200\n",
      "648/648 [==============================] - 2s 2ms/step - loss: 0.0604 - acc: 1.0000 - val_loss: 5.1254 - val_acc: 0.1166\n",
      "Epoch 193/200\n",
      "648/648 [==============================] - 2s 3ms/step - loss: 0.0581 - acc: 1.0000 - val_loss: 5.0863 - val_acc: 0.1288\n",
      "Epoch 194/200\n",
      "648/648 [==============================] - 1s 2ms/step - loss: 0.0581 - acc: 1.0000 - val_loss: 5.1384 - val_acc: 0.1166\n",
      "Epoch 195/200\n",
      "648/648 [==============================] - 1s 2ms/step - loss: 0.0577 - acc: 1.0000 - val_loss: 5.1618 - val_acc: 0.1104\n",
      "Epoch 196/200\n",
      "648/648 [==============================] - 1s 2ms/step - loss: 0.0565 - acc: 1.0000 - val_loss: 5.1667 - val_acc: 0.1166\n",
      "Epoch 197/200\n",
      "648/648 [==============================] - 1s 2ms/step - loss: 0.0554 - acc: 1.0000 - val_loss: 5.1842 - val_acc: 0.1227\n",
      "Epoch 198/200\n",
      "648/648 [==============================] - 1s 2ms/step - loss: 0.0547 - acc: 1.0000 - val_loss: 5.2006 - val_acc: 0.1043\n",
      "Epoch 199/200\n",
      "648/648 [==============================] - 1s 2ms/step - loss: 0.0542 - acc: 1.0000 - val_loss: 5.2133 - val_acc: 0.1166\n",
      "Epoch 200/200\n",
      "648/648 [==============================] - 1s 2ms/step - loss: 0.0539 - acc: 1.0000 - val_loss: 5.1720 - val_acc: 0.1166\n"
     ]
    }
   ],
   "source": [
    "history = model.fit(img_train_np, y_train.values, epochs=200,\n",
    "             validation_data=(img_test_np, y_test.values))"
   ]
  },
  {
   "cell_type": "code",
   "execution_count": 35,
   "metadata": {
    "ExecuteTime": {
     "end_time": "2019-01-31T10:57:48.273595Z",
     "start_time": "2019-01-31T10:57:48.191565Z"
    }
   },
   "outputs": [
    {
     "name": "stdout",
     "output_type": "stream",
     "text": [
      "163/163 [==============================] - 0s 414us/step\n",
      "Test accuracy: 0.1165644171779141\n"
     ]
    }
   ],
   "source": [
    "test_loss, test_acc = model.evaluate(img_test_np, y_test.values)\n",
    "print('Test accuracy:', test_acc)"
   ]
  },
  {
   "cell_type": "code",
   "execution_count": 21,
   "metadata": {
    "ExecuteTime": {
     "end_time": "2019-01-31T11:00:27.301575Z",
     "start_time": "2019-01-31T11:00:27.250547Z"
    }
   },
   "outputs": [
    {
     "ename": "ValueError",
     "evalue": "too many values to unpack (expected 2)",
     "output_type": "error",
     "traceback": [
      "\u001b[0;31m---------------------------------------------------------------------------\u001b[0m",
      "\u001b[0;31mValueError\u001b[0m                                Traceback (most recent call last)",
      "\u001b[0;32m<ipython-input-21-eada66dee707>\u001b[0m in \u001b[0;36m<module>\u001b[0;34m\u001b[0m\n\u001b[1;32m     15\u001b[0m \u001b[0;34m\u001b[0m\u001b[0m\n\u001b[1;32m     16\u001b[0m \u001b[0;34m\u001b[0m\u001b[0m\n\u001b[0;32m---> 17\u001b[0;31m \u001b[0mplot_history\u001b[0m\u001b[0;34m(\u001b[0m\u001b[0;34m(\u001b[0m\u001b[0;34m'baseline'\u001b[0m\u001b[0;34m,\u001b[0m \u001b[0mhistory\u001b[0m\u001b[0;34m)\u001b[0m\u001b[0;34m)\u001b[0m\u001b[0;34m\u001b[0m\u001b[0;34m\u001b[0m\u001b[0m\n\u001b[0m",
      "\u001b[0;32m<ipython-input-21-eada66dee707>\u001b[0m in \u001b[0;36mplot_history\u001b[0;34m(histories, key)\u001b[0m\n\u001b[1;32m      2\u001b[0m   \u001b[0mplt\u001b[0m\u001b[0;34m.\u001b[0m\u001b[0mfigure\u001b[0m\u001b[0;34m(\u001b[0m\u001b[0mfigsize\u001b[0m\u001b[0;34m=\u001b[0m\u001b[0;34m(\u001b[0m\u001b[0;36m16\u001b[0m\u001b[0;34m,\u001b[0m\u001b[0;36m10\u001b[0m\u001b[0;34m)\u001b[0m\u001b[0;34m)\u001b[0m\u001b[0;34m\u001b[0m\u001b[0;34m\u001b[0m\u001b[0m\n\u001b[1;32m      3\u001b[0m \u001b[0;34m\u001b[0m\u001b[0m\n\u001b[0;32m----> 4\u001b[0;31m   \u001b[0;32mfor\u001b[0m \u001b[0mname\u001b[0m\u001b[0;34m,\u001b[0m \u001b[0mhistory\u001b[0m \u001b[0;32min\u001b[0m \u001b[0mhistories\u001b[0m\u001b[0;34m:\u001b[0m\u001b[0;34m\u001b[0m\u001b[0;34m\u001b[0m\u001b[0m\n\u001b[0m\u001b[1;32m      5\u001b[0m     val = plt.plot(history.epoch, history.history['val_'+key],\n\u001b[1;32m      6\u001b[0m                    '--', label=name.title()+' Val')\n",
      "\u001b[0;31mValueError\u001b[0m: too many values to unpack (expected 2)"
     ]
    },
    {
     "data": {
      "text/plain": [
       "<Figure size 1152x720 with 0 Axes>"
      ]
     },
     "metadata": {},
     "output_type": "display_data"
    }
   ],
   "source": [
    "def plot_history(histories, key='binary_crossentropy'):\n",
    "  plt.figure(figsize=(16,10))\n",
    "    \n",
    "  for name, history in histories:\n",
    "    val = plt.plot(history.epoch, history.history['val_'+key],\n",
    "                   '--', label=name.title()+' Val')\n",
    "    plt.plot(history.epoch, history.history[key], color=val[0].get_color(),\n",
    "             label=name.title()+' Train')\n",
    "\n",
    "  plt.xlabel('Epochs')\n",
    "  plt.ylabel(key.replace('_',' ').title())\n",
    "  plt.legend()\n",
    "\n",
    "  plt.xlim([0,max(history.epoch)])\n",
    "\n",
    "\n",
    "plot_history(('baseline', history))"
   ]
  },
  {
   "cell_type": "code",
   "execution_count": 40,
   "metadata": {
    "ExecuteTime": {
     "start_time": "2019-01-31T11:00:59.800Z"
    }
   },
   "outputs": [],
   "source": [
    "ts = pd.Series(history.epoch[:])\n",
    "ts = ts.reset_index()\n",
    "ts['loss'] = history.history['loss']\n",
    "ts['accuracy'] = history.history['acc']\n",
    "ts['val_loss'] = history.history['val_loss']  \n",
    "ts['val_accuracy'] = history.history['val_acc']   \n",
    "ts.columns = ['index', 'epoch', 'loss', 'accuracy', 'val_loss', 'val_accuracy']"
   ]
  },
  {
   "cell_type": "code",
   "execution_count": 41,
   "metadata": {},
   "outputs": [],
   "source": [
    "time_series = ts[['loss', 'accuracy', 'val_loss', 'val_accuracy']].stack().reset_index()\n",
    "time_series.columns = ['epoch', 'metric', 'measure']"
   ]
  },
  {
   "cell_type": "code",
   "execution_count": 42,
   "metadata": {},
   "outputs": [
    {
     "data": {
      "text/html": [
       "<div>\n",
       "<style scoped>\n",
       "    .dataframe tbody tr th:only-of-type {\n",
       "        vertical-align: middle;\n",
       "    }\n",
       "\n",
       "    .dataframe tbody tr th {\n",
       "        vertical-align: top;\n",
       "    }\n",
       "\n",
       "    .dataframe thead th {\n",
       "        text-align: right;\n",
       "    }\n",
       "</style>\n",
       "<table border=\"1\" class=\"dataframe\">\n",
       "  <thead>\n",
       "    <tr style=\"text-align: right;\">\n",
       "      <th></th>\n",
       "      <th>epoch</th>\n",
       "      <th>metric</th>\n",
       "      <th>measure</th>\n",
       "    </tr>\n",
       "  </thead>\n",
       "  <tbody>\n",
       "    <tr>\n",
       "      <th>0</th>\n",
       "      <td>0</td>\n",
       "      <td>loss</td>\n",
       "      <td>0.510880</td>\n",
       "    </tr>\n",
       "    <tr>\n",
       "      <th>1</th>\n",
       "      <td>0</td>\n",
       "      <td>accuracy</td>\n",
       "      <td>0.945988</td>\n",
       "    </tr>\n",
       "    <tr>\n",
       "      <th>2</th>\n",
       "      <td>0</td>\n",
       "      <td>val_loss</td>\n",
       "      <td>3.510420</td>\n",
       "    </tr>\n",
       "    <tr>\n",
       "      <th>3</th>\n",
       "      <td>0</td>\n",
       "      <td>val_accuracy</td>\n",
       "      <td>0.104294</td>\n",
       "    </tr>\n",
       "    <tr>\n",
       "      <th>4</th>\n",
       "      <td>1</td>\n",
       "      <td>loss</td>\n",
       "      <td>0.505328</td>\n",
       "    </tr>\n",
       "  </tbody>\n",
       "</table>\n",
       "</div>"
      ],
      "text/plain": [
       "   epoch        metric   measure\n",
       "0      0          loss  0.510880\n",
       "1      0      accuracy  0.945988\n",
       "2      0      val_loss  3.510420\n",
       "3      0  val_accuracy  0.104294\n",
       "4      1          loss  0.505328"
      ]
     },
     "execution_count": 42,
     "metadata": {},
     "output_type": "execute_result"
    }
   ],
   "source": [
    "time_series.head()"
   ]
  },
  {
   "cell_type": "code",
   "execution_count": 43,
   "metadata": {},
   "outputs": [
    {
     "data": {
      "text/plain": [
       "RendererRegistry.enable('notebook')"
      ]
     },
     "execution_count": 43,
     "metadata": {},
     "output_type": "execute_result"
    }
   ],
   "source": [
    "import altair as alt\n",
    "alt.renderers.enable('notebook')"
   ]
  },
  {
   "cell_type": "code",
   "execution_count": null,
   "metadata": {},
   "outputs": [],
   "source": [
    "alt.Chart(time_series).mark_line().encode(\n",
    "    x = \"epoch:Q\",\n",
    "    y = 'measure:Q',\n",
    "    color = 'metric:N'\n",
    ").interactive()"
   ]
  },
  {
   "cell_type": "code",
   "execution_count": null,
   "metadata": {},
   "outputs": [],
   "source": []
  }
 ],
 "metadata": {
  "kernelspec": {
   "display_name": "Python 3",
   "language": "python",
   "name": "python3"
  },
  "language_info": {
   "codemirror_mode": {
    "name": "ipython",
    "version": 3
   },
   "file_extension": ".py",
   "mimetype": "text/x-python",
   "name": "python",
   "nbconvert_exporter": "python",
   "pygments_lexer": "ipython3",
   "version": "3.6.7"
  },
  "toc": {
   "base_numbering": 1,
   "nav_menu": {},
   "number_sections": true,
   "sideBar": true,
   "skip_h1_title": false,
   "title_cell": "Table of Contents",
   "title_sidebar": "Contents",
   "toc_cell": false,
   "toc_position": {},
   "toc_section_display": true,
   "toc_window_display": false
  },
  "varInspector": {
   "cols": {
    "lenName": 16,
    "lenType": 16,
    "lenVar": 40
   },
   "kernels_config": {
    "python": {
     "delete_cmd_postfix": "",
     "delete_cmd_prefix": "del ",
     "library": "var_list.py",
     "varRefreshCmd": "print(var_dic_list())"
    },
    "r": {
     "delete_cmd_postfix": ") ",
     "delete_cmd_prefix": "rm(",
     "library": "var_list.r",
     "varRefreshCmd": "cat(var_dic_list()) "
    }
   },
   "types_to_exclude": [
    "module",
    "function",
    "builtin_function_or_method",
    "instance",
    "_Feature"
   ],
   "window_display": false
  }
 },
 "nbformat": 4,
 "nbformat_minor": 2
}
